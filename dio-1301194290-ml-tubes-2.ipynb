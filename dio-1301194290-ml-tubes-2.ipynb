{
 "cells": [
  {
   "cell_type": "markdown",
   "id": "83919cdd-a6d0-416b-bae4-85ce5fbf0295",
   "metadata": {},
   "source": [
    "# **Eksplorasi, Persiapan Data, dan Classification**"
   ]
  },
  {
   "cell_type": "markdown",
   "id": "d38eb3e3-82c0-485d-ba77-604b6d460a20",
   "metadata": {},
   "source": [
    "# **Penjelasan Masalah**"
   ]
  },
  {
   "cell_type": "markdown",
   "id": "fdd9a173-9465-4b53-83bf-5eaa9f257cca",
   "metadata": {},
   "source": [
    "Masalah yang ingin diselesaikan disini adalah algoritma classification mampu melakukan klasifikasi terhadap data pelanggan yang nantinya akan menghasilkan prediksi terhadap data pelanggan sehingga kita dapat mengetahui mana pelanggan yang tertarik untuk membeli kendaraan tersebut."
   ]
  },
  {
   "cell_type": "markdown",
   "id": "9487ee66-e62f-4541-b599-8f1a2dc2b4a4",
   "metadata": {
    "tags": []
   },
   "source": [
    " ## **Muat File Data**"
   ]
  },
  {
   "cell_type": "code",
   "execution_count": null,
   "id": "3733437b-8433-412d-9b6c-8c8142458b7f",
   "metadata": {
    "tags": []
   },
   "outputs": [],
   "source": [
    "#import all the libraries\n",
    "import pandas as pd\n",
    "import matplotlib.pyplot as plt\n",
    "import seaborn as sns \n",
    "import numpy as np\n",
    "from scipy import stats\n",
    "import sklearn\n",
    "import warnings\n",
    "from sklearn.model_selection import GridSearchCV\n",
    "from sklearn import tree\n",
    "from sklearn.preprocessing import StandardScaler\n",
    "from sklearn import metrics\n",
    "\n",
    "# Configure libraries\n",
    "warnings.filterwarnings('ignore')\n",
    "plt.rcParams['figure.figsize'] = (10, 10)\n",
    "plt.style.use('seaborn')"
   ]
  },
  {
   "cell_type": "code",
   "execution_count": null,
   "id": "7ac7688a-7959-40af-85da-a30270680c38",
   "metadata": {
    "tags": []
   },
   "outputs": [],
   "source": [
    "#Reading the dataset in a dataframe using Pandas\n",
    "df_train = pd.read_csv(\"kendaraan_train.csv\")\n",
    "\n",
    "df_train.head(10)  #Print first ten observations of train data"
   ]
  },
  {
   "cell_type": "code",
   "execution_count": null,
   "id": "82f61508-4044-4b06-ab1c-413e0314f9fb",
   "metadata": {},
   "outputs": [],
   "source": [
    "#Reading the dataset in a dataframe using Pandas\n",
    "df_test = pd.read_csv('kendaraan_test.csv')\n",
    "\n",
    "df_test.head(10)  #Print first ten observations of test data"
   ]
  },
  {
   "cell_type": "markdown",
   "id": "d9af8119-32a1-460a-8f3c-b10b4b373d63",
   "metadata": {},
   "source": [
    "## **Eksplorasi Data**"
   ]
  },
  {
   "cell_type": "markdown",
   "id": "415d6aa6-ea23-41fb-b659-0dd33765c514",
   "metadata": {},
   "source": [
    "Untuk ikhtisar singkat, kita dapat menggunakan metode dan atribut DataFrame berikut:"
   ]
  },
  {
   "cell_type": "code",
   "execution_count": null,
   "id": "0ec6f141-2521-4c2f-9a3f-910519c9ed2b",
   "metadata": {},
   "outputs": [],
   "source": [
    "df_train.head() # show first 5 rows"
   ]
  },
  {
   "cell_type": "code",
   "execution_count": null,
   "id": "a906e90d-8dff-4aa7-8fc7-6d6eeab6b47c",
   "metadata": {},
   "outputs": [],
   "source": [
    "df_train.tail() # last 5 rows"
   ]
  },
  {
   "cell_type": "code",
   "execution_count": null,
   "id": "7d5d6050-efd7-43f9-99ce-42c1b7836a73",
   "metadata": {},
   "outputs": [],
   "source": [
    "df_train.columns # list all column names"
   ]
  },
  {
   "cell_type": "markdown",
   "id": "48a1bc54-8ec9-4a1f-8bdc-48b44eaf8637",
   "metadata": {},
   "source": [
    "- SIM\t--> 0 : Tidak punya SIM 1 : Punya SIM\n",
    "- Kode_Daerah --> Kode area tempat tinggal pelanggan\n",
    "- Sudah_Asuransi --> 1 : Pelanggan sudah memiliki asuransi kendaraan, 0 : Pelanggan belum memiliki asuransi kendaraan\n",
    "- Umur_Kendaraan --> Umur kendaraan\n",
    "- Kendaraan_Rusak --> 1 : Kendaraan pernah rusak sebelumnya. 0 : Kendaraan belum pernah rusak.\n",
    "- Premi --> Jumlah premi yang harus dibayarkan per tahun.\n",
    "- Kanal_Penjualan --> Kode kanal untuk menghubungi pelanggan (email, telpon, dll)\n",
    "- Lama_Berlangganan\t--> Sudah berapa lama pelanggan menjadi klien perusahaan"
   ]
  },
  {
   "cell_type": "code",
   "execution_count": null,
   "id": "2f162832-ecf3-47d1-9514-bee08e542b8f",
   "metadata": {},
   "outputs": [],
   "source": [
    "df_train.shape # get number of rows and columns"
   ]
  },
  {
   "cell_type": "code",
   "execution_count": null,
   "id": "1b3de971-f621-48d7-94c1-1312e2ee0cb5",
   "metadata": {},
   "outputs": [],
   "source": [
    "df_train.info() # additional info about dataframe"
   ]
  },
  {
   "cell_type": "code",
   "execution_count": null,
   "id": "93cd77d8-c0ce-42f9-800f-5937b21f712b",
   "metadata": {},
   "outputs": [],
   "source": [
    "df_train.describe() # statistical description, only for numeric values"
   ]
  },
  {
   "cell_type": "code",
   "execution_count": null,
   "id": "f9899ddf-7491-45b3-937c-7096c987b462",
   "metadata": {},
   "outputs": [],
   "source": [
    "df_train.value_counts(dropna=False) # count unique values"
   ]
  },
  {
   "cell_type": "markdown",
   "id": "babe2ed0-46f5-4b2e-ad42-a6e7300ba7b6",
   "metadata": {},
   "source": [
    "### **1. Mengurutkan data**"
   ]
  },
  {
   "cell_type": "markdown",
   "id": "459b40c7-7703-4e5a-a939-092ef69702ed",
   "metadata": {},
   "source": [
    "Berdasarkan Premi terbesar"
   ]
  },
  {
   "cell_type": "code",
   "execution_count": null,
   "id": "98c5cb35-a25f-497b-9496-606c71fd584b",
   "metadata": {
    "tags": []
   },
   "outputs": [],
   "source": [
    "df_train.sort_values('Premi',ascending=False).head(10) # Sort the Data frame based on Premi in ascending value and print first 10 observation."
   ]
  },
  {
   "cell_type": "markdown",
   "id": "1d268be0-2460-4089-b7d2-92df23b42736",
   "metadata": {},
   "source": [
    "Berdasarkan Lama berlangganan terbesar"
   ]
  },
  {
   "cell_type": "code",
   "execution_count": null,
   "id": "09042916-b960-4291-9e6a-d1fcbf265e6b",
   "metadata": {
    "tags": []
   },
   "outputs": [],
   "source": [
    "df_train.sort_values('Lama_Berlangganan', ascending=False).head(10) #Sort the Data frame based on Lama_Berlangganan in ascending value and print first 10 observation."
   ]
  },
  {
   "cell_type": "markdown",
   "id": "f3516f22-43f1-4efc-8cf3-92a9b1caa51a",
   "metadata": {},
   "source": [
    "### **2. Membuat Plots**"
   ]
  },
  {
   "cell_type": "markdown",
   "id": "9fda1c91-50dd-4f68-89d0-9841eeecaec1",
   "metadata": {},
   "source": [
    "#### A. Histogram"
   ]
  },
  {
   "cell_type": "markdown",
   "id": "f63eb5c3-7a66-42d0-b551-c4eeb6f88189",
   "metadata": {},
   "source": [
    "Berdasarkan Umur"
   ]
  },
  {
   "cell_type": "code",
   "execution_count": null,
   "id": "5468f643-58c0-426a-ae33-00b1bec63361",
   "metadata": {},
   "outputs": [],
   "source": [
    "#Plots in matplotlib reside within a figure object, use plt.figure to create new figure\n",
    "fig=plt.figure()\n",
    "#Create 3 subplots using add_subplot, because you can't create blank figure\n",
    "ax = fig.add_subplot(1,1,1)\n",
    "\n",
    "#Plot Histogram by age\n",
    "#Variable\n",
    "ax.hist(df_train['Umur'],bins=range(20, 85))\n",
    "#Labels and Tit\n",
    "plt.title('Distribusi Umur')\n",
    "plt.xlabel('Umur')\n",
    "plt.ylabel('Pelanggan')\n",
    "plt.show()"
   ]
  },
  {
   "cell_type": "markdown",
   "id": "1315c58c-2055-40d9-aee3-bf964339ef4d",
   "metadata": {},
   "source": [
    "Berdasarkan Premi"
   ]
  },
  {
   "cell_type": "code",
   "execution_count": null,
   "id": "c7c6a7b8-4508-42b8-9e7b-0bd843b8a759",
   "metadata": {
    "tags": []
   },
   "outputs": [],
   "source": [
    "#Plot Histogram by Premi\n",
    "#Plots in matplotlib reside within a figure object, use plt.figure to create new figure\n",
    "fig=plt.figure()\n",
    "#Create 3 subplots using add_subplot, because you can't create blank figure\n",
    "ax = fig.add_subplot(1,1,1)\n",
    "\n",
    "#Variable\n",
    "ax.hist(df_train['Premi'],bins=100)\n",
    "#Labels and Tit\n",
    "plt.title('Distribusi Premi')\n",
    "plt.xlabel('Premi')\n",
    "plt.ylabel('Pelanggan')\n",
    "plt.show()"
   ]
  },
  {
   "cell_type": "markdown",
   "id": "6cd4efb7-02b2-41de-adea-71f915c0b191",
   "metadata": {},
   "source": [
    "Berdasarkan Lama Berlangganan"
   ]
  },
  {
   "cell_type": "code",
   "execution_count": null,
   "id": "e00615af-8c91-4455-b432-ca953798edc4",
   "metadata": {},
   "outputs": [],
   "source": [
    "#Plot Histogram by Lama_Berlangganan\n",
    "#Plots in matplotlib reside within a figure object, use plt.figure to create new figure\n",
    "fig=plt.figure()\n",
    "#Create 3 subplots using add_subplot, because you can't create blank figure\n",
    "ax = fig.add_subplot(1,1,1)\n",
    "\n",
    "#Variable\n",
    "ax.hist(df_train['Lama_Berlangganan'], bins=range(10, 299))\n",
    "#Labels and Tit\n",
    "plt.title('Distribusi Lama Berlangganan')\n",
    "plt.xlabel('Lama Berlangganan')\n",
    "plt.ylabel('Pelanggan')\n",
    "plt.show()"
   ]
  },
  {
   "cell_type": "markdown",
   "id": "e28d82ce-af59-4309-b35a-293c963e8f73",
   "metadata": {},
   "source": [
    "Berdasarkan Kanal Penjualan"
   ]
  },
  {
   "cell_type": "code",
   "execution_count": null,
   "id": "db4940aa-a082-4493-9255-738f6d7e5351",
   "metadata": {},
   "outputs": [],
   "source": [
    "#Plot Histogram by Kanal Penjualan\n",
    "#Plots in matplotlib reside within a figure object, use plt.figure to create new figure\n",
    "fig=plt.figure()\n",
    "#Create 3 subplots using add_subplot, because you can't create blank figure\n",
    "ax = fig.add_subplot(1,1,1)\n",
    "\n",
    "#Variable \n",
    "ax.hist(df_train['Kanal_Penjualan'],bins=range(1, 163))\n",
    "#Labels and Tit\n",
    "plt.title('Distribusi Kanal Penjualan')\n",
    "plt.xlabel('Kanal Penjualan')\n",
    "plt.ylabel('Pelanggan')\n",
    "plt.show()"
   ]
  },
  {
   "cell_type": "markdown",
   "id": "7dceee44-929f-45d7-a57f-605ceb83b058",
   "metadata": {},
   "source": [
    "#### B. Scatter Plot"
   ]
  },
  {
   "cell_type": "code",
   "execution_count": null,
   "id": "c0c4faea-e144-4e1e-9984-c1637a95c53f",
   "metadata": {
    "tags": []
   },
   "outputs": [],
   "source": [
    "# Scatter Plot based on Age and premi\n",
    "#Plots in matplotlib reside within a figure object, use plt.figure to create new figure \n",
    "fig=plt.figure()\n",
    "#Create one or more subplots using add_subplot, because you can't create blank figure\n",
    "ax = fig.add_subplot(1,1,1)\n",
    "\n",
    "#Variable\n",
    "ax.scatter(df_train['Umur'],df['Premi'])\n",
    "#Labels and Tit\n",
    "plt.title('Distribusi Umur dan Premi')\n",
    "plt.xlabel('Umur')\n",
    "plt.ylabel('Premi')\n",
    "plt.show()"
   ]
  },
  {
   "cell_type": "code",
   "execution_count": null,
   "id": "f47a07ac-840e-4653-82c5-9cb1c1f988ce",
   "metadata": {},
   "outputs": [],
   "source": [
    "# Scatter Plot based on premi and Lama_Berlangganan\n",
    "#Plots in matplotlib reside within a figure object, use plt.figure to create new figure \n",
    "fig=plt.figure()\n",
    "#Create one or more subplots using add_subplot, because you can't create blank figure\n",
    "ax = fig.add_subplot(1,1,1)\n",
    "\n",
    "#Variable\n",
    "ax.scatter(df_train['Premi'],df['Lama_Berlangganan'])\n",
    "#Labels and Tit\n",
    "plt.title('Distribusi Premi dan Lama Berlangganan')\n",
    "plt.xlabel('Premi')\n",
    "plt.ylabel('Lama Berlangganan')\n",
    "plt.show()"
   ]
  },
  {
   "cell_type": "markdown",
   "id": "73ff5ace-6209-4b34-a4ad-9144183345dd",
   "metadata": {},
   "source": [
    "#### C. Box-plot"
   ]
  },
  {
   "cell_type": "code",
   "execution_count": null,
   "id": "60e34a94-e65b-44fa-a882-4d098aa7cbad",
   "metadata": {},
   "outputs": [],
   "source": [
    "# Box-plot based on Umur\n",
    "sns.boxplot(x=df_train['Umur']) \n",
    "sns.despine()"
   ]
  },
  {
   "cell_type": "code",
   "execution_count": null,
   "id": "2347f750-7140-4ed3-8c70-a9cbba5562ab",
   "metadata": {
    "tags": []
   },
   "outputs": [],
   "source": [
    "# Box-plot based on Premi\n",
    "sns.boxplot(x=df_train['Premi']) \n",
    "sns.despine()"
   ]
  },
  {
   "cell_type": "code",
   "execution_count": null,
   "id": "dfb6799e-e946-4a63-b596-a70a0df2c2d5",
   "metadata": {},
   "outputs": [],
   "source": [
    "# Box-plot based on Lama_Berlanggan\n",
    "sns.boxplot(x=df_train['Lama_Berlangganan']) \n",
    "sns.despine()"
   ]
  },
  {
   "cell_type": "code",
   "execution_count": null,
   "id": "962d3dc0-f1a7-4ab9-b190-d2f671f7a736",
   "metadata": {},
   "outputs": [],
   "source": [
    "# Box-plot based on Kode_Daerah\n",
    "sns.boxplot(x=df_train['Kode_Daerah']) \n",
    "sns.despine()"
   ]
  },
  {
   "cell_type": "code",
   "execution_count": null,
   "id": "6e5b54cf-09b6-4bfd-96a6-18e68e6bfa28",
   "metadata": {},
   "outputs": [],
   "source": [
    "# Box-plot based on Kanal_Penjualan\n",
    "sns.boxplot(x=df_train['Kanal_Penjualan']) \n",
    "sns.despine()"
   ]
  },
  {
   "cell_type": "markdown",
   "id": "ca944fdf-76c7-426c-bbcb-10fb1a842b68",
   "metadata": {},
   "source": [
    "#### D. Heatmap"
   ]
  },
  {
   "cell_type": "code",
   "execution_count": null,
   "id": "ce4b1ccc-a5b8-485f-95e7-b19d04ff8db8",
   "metadata": {},
   "outputs": [],
   "source": [
    "plt.figure(figsize = (16, 10))\n",
    "sns.heatmap(df_train.corr(), annot=True)\n",
    "plt.show()"
   ]
  },
  {
   "cell_type": "markdown",
   "id": "7ce76667-a7d4-4f5e-b05a-a6f38369ad74",
   "metadata": {},
   "source": [
    "### **3. Korelasi**"
   ]
  },
  {
   "cell_type": "code",
   "execution_count": null,
   "id": "717f3f80-4c9d-42fe-82c9-d9e89d4b7bb3",
   "metadata": {
    "tags": []
   },
   "outputs": [],
   "source": [
    "df_train.corr()"
   ]
  },
  {
   "cell_type": "markdown",
   "id": "7e3cb072-612e-441f-8698-7a1d83cac81a",
   "metadata": {},
   "source": [
    "### **4. Hasilkan Tabel Frekuensi**"
   ]
  },
  {
   "cell_type": "markdown",
   "id": "8d0a0bba-60d8-48da-ade9-92ca3bda173c",
   "metadata": {},
   "source": [
    "Berdasarkan Umur dan Sudah asuransi"
   ]
  },
  {
   "cell_type": "code",
   "execution_count": null,
   "id": "e85a1ce4-3835-4af1-8b91-8ccb54b28ee3",
   "metadata": {},
   "outputs": [],
   "source": [
    "freq = df_train.groupby(['Umur','Sudah_Asuransi']) #Group the Data frame based on Umur and Sudah_Asuransi\n",
    "freq.size()"
   ]
  },
  {
   "cell_type": "markdown",
   "id": "3a14be97-1f02-48e2-9826-c841238da06e",
   "metadata": {},
   "source": [
    "Berdasarkan Umur dan Premi"
   ]
  },
  {
   "cell_type": "code",
   "execution_count": null,
   "id": "ca5cb900-7b64-410a-b67a-b6b69d120b98",
   "metadata": {},
   "outputs": [],
   "source": [
    "freq = df_train.groupby(['Umur','Premi']) #Group the Data frame based on Umur and Premi\n",
    "freq.size()"
   ]
  },
  {
   "cell_type": "markdown",
   "id": "a92cfd25-d258-468a-9cf3-235f91e59cde",
   "metadata": {},
   "source": [
    "Berdasarkan Umur dan Lama Berlangganan"
   ]
  },
  {
   "cell_type": "code",
   "execution_count": null,
   "id": "a73c252b-83b9-40d6-9747-56311db2159d",
   "metadata": {},
   "outputs": [],
   "source": [
    "freq = df_train.groupby(['Umur','Lama_Berlangganan']) #Group the Data frame based on Umur and Lama_Berlangganan\n",
    "freq.size()"
   ]
  },
  {
   "cell_type": "markdown",
   "id": "03cd40ba-7853-4f4d-8423-4dad37fdc892",
   "metadata": {},
   "source": [
    "Berdasarkan Umur dan Kendaraan_Rusak"
   ]
  },
  {
   "cell_type": "code",
   "execution_count": null,
   "id": "e3d223d2-2df3-4bc2-b38f-e978fddee374",
   "metadata": {},
   "outputs": [],
   "source": [
    "freq = df_train.groupby(['Umur','Kendaraan_Rusak']) #Group the Data frame based on Umur and Kendaraan_Rusak\n",
    "freq.size()"
   ]
  },
  {
   "cell_type": "markdown",
   "id": "c5ea7c97-3e8c-426f-b878-acf817a92c71",
   "metadata": {},
   "source": [
    "### **5. Mengelompokkan Variabel untuk Menghitung Hitungan, Rata-rata dan Jumlah**"
   ]
  },
  {
   "cell_type": "markdown",
   "id": "3bfc8ef1-3b73-4806-9d7e-643f9b8e2c37",
   "metadata": {},
   "source": [
    "Berdasarkan Jenis_Kelamin, SIM, Umur_Kendaraan, Kendaraan_Rusak dan Sudah_Asuransi"
   ]
  },
  {
   "cell_type": "code",
   "execution_count": null,
   "id": "d6c26e9c-fabc-4da9-81e8-dec5b2776346",
   "metadata": {},
   "outputs": [],
   "source": [
    "group = df_train.groupby(['Jenis_Kelamin','SIM','Umur_Kendaraan','Kendaraan_Rusak','Sudah_Asuransi'])\n",
    "group.describe()"
   ]
  },
  {
   "cell_type": "markdown",
   "id": "524724ad-61d0-4ca4-99bd-34215000f643",
   "metadata": {},
   "source": [
    "## **Pembersihan Data**"
   ]
  },
  {
   "cell_type": "markdown",
   "id": "26a221d8-ed8d-4947-a35e-297ada12d265",
   "metadata": {},
   "source": [
    "### **Hapus nilai duplikat dari variabel dalam Dataframe**"
   ]
  },
  {
   "cell_type": "code",
   "execution_count": null,
   "id": "cc387d0a-9ed4-44e4-8763-f40b3f3c1f36",
   "metadata": {
    "tags": []
   },
   "outputs": [],
   "source": [
    "# Find a duplicate rows of train data\n",
    "duplicate_df_row = df_train[df_train.duplicated()]\n",
    "\n",
    "print(duplicate_df_row)"
   ]
  },
  {
   "cell_type": "markdown",
   "id": "5c49d2a5-ff19-4405-92df-a36d3fbc3bb3",
   "metadata": {},
   "source": [
    "Hal ini menandakan bahwa train data tidak ada duplicate value"
   ]
  },
  {
   "cell_type": "code",
   "execution_count": null,
   "id": "3042a496-f83a-4f89-82fa-a907355be715",
   "metadata": {},
   "outputs": [],
   "source": [
    "# Find a duplicate rows of test data\n",
    "duplicate_df_test_row = df_test[df_test.duplicated()]\n",
    "\n",
    "print(duplicate_df_test_row)"
   ]
  },
  {
   "cell_type": "markdown",
   "id": "a2364bc8-17b3-4b04-9ad8-fc451d71c10e",
   "metadata": {},
   "source": [
    "Hal ini menandakan bahwa test data ada duplicate value"
   ]
  },
  {
   "cell_type": "code",
   "execution_count": null,
   "id": "63b18daa-168a-4c93-8083-bb73ca88cb95",
   "metadata": {},
   "outputs": [],
   "source": [
    "df_test.drop_duplicates(keep = False, inplace = True)"
   ]
  },
  {
   "cell_type": "code",
   "execution_count": null,
   "id": "8113471b-cca5-41fd-8d30-c0637f59d3f2",
   "metadata": {},
   "outputs": [],
   "source": [
    "# Find a duplicate rows of test data\n",
    "duplicate_df_test_row = df_test[df_test.duplicated()]\n",
    "\n",
    "print(duplicate_df_test_row)"
   ]
  },
  {
   "cell_type": "markdown",
   "id": "b84639b1-d6ea-44ca-a8eb-b95517a902a3",
   "metadata": {},
   "source": [
    "### **Kenali dan Perlakukan Nilai dan Pencilan yang Hilang**"
   ]
  },
  {
   "cell_type": "markdown",
   "id": "87f30d72-22a9-4fa9-aa51-deba491156e7",
   "metadata": {},
   "source": [
    "Hitung nilai hilang"
   ]
  },
  {
   "cell_type": "code",
   "execution_count": null,
   "id": "c28d0fe5-1f54-4ad7-92b2-1226395d692f",
   "metadata": {
    "tags": []
   },
   "outputs": [],
   "source": [
    "# Identify missing values of dataframe train\n",
    "df_train.isnull().sum()"
   ]
  },
  {
   "cell_type": "code",
   "execution_count": null,
   "id": "6fe0f651-5a8a-4571-b472-4157c8f98bde",
   "metadata": {},
   "outputs": [],
   "source": [
    "# Identify missing values of dataframe test\n",
    "df_test.isnull().sum()"
   ]
  },
  {
   "cell_type": "markdown",
   "id": "6359a939-322c-44a4-8ca2-08bd8c3b8a2d",
   "metadata": {},
   "source": [
    "Penanganan nilai hilang untuk data train"
   ]
  },
  {
   "cell_type": "code",
   "execution_count": null,
   "id": "5d377fc5-4f14-4dd5-bc6c-e7bffe9fa082",
   "metadata": {
    "tags": []
   },
   "outputs": [],
   "source": [
    "#Example to impute missing values\n",
    "df_train.dropna(inplace=True) # Using dropna to drop all NaN values in the Dataframe train"
   ]
  },
  {
   "cell_type": "markdown",
   "id": "825edd21-8fba-4163-9d89-5dcf97096327",
   "metadata": {},
   "source": [
    "Hasil setelah penanganan nilai hilang untuk data train"
   ]
  },
  {
   "cell_type": "code",
   "execution_count": null,
   "id": "2eaa6c24-632e-4191-a716-60422fd855e8",
   "metadata": {
    "tags": []
   },
   "outputs": [],
   "source": [
    "# Identify missing values of dataframe train\n",
    "df_train.isnull().sum()"
   ]
  },
  {
   "cell_type": "markdown",
   "id": "c297c0ca-fd8e-460c-a35f-7cbd2585c101",
   "metadata": {},
   "source": [
    "Berdasarkan Boxplot sebelumnya, hanya data premi yang memiliki outliers"
   ]
  },
  {
   "cell_type": "code",
   "execution_count": null,
   "id": "8aaa4ae7-a0cc-4d05-8c8f-c8cee06ffc8c",
   "metadata": {
    "tags": []
   },
   "outputs": [],
   "source": [
    "# IQR for train data\n",
    "Q1_train= df_train['Premi'].quantile(0.25)\n",
    "Q3_train = df_train['Premi'].quantile(0.75)\n",
    "IQR_train = Q3_train - Q1_train\n",
    "upper_limit_train = Q3_train + 1.5 * IQR_train\n",
    "lower_limit_train = Q1_train - 1.5 * IQR_train\n",
    "\n",
    "print(\"Upper whisker train data: \", upper_limit_train)\n",
    "print(\"Lower Whisker train data: \", lower_limit_train)"
   ]
  },
  {
   "cell_type": "code",
   "execution_count": null,
   "id": "c31f87d1-9abb-45ca-8ccf-63fd59bdca4d",
   "metadata": {},
   "outputs": [],
   "source": [
    "# IQR for test data\n",
    "Q1_test = df_test['Premi'].quantile(0.25)\n",
    "Q3_test = df_test['Premi'].quantile(0.75)\n",
    "IQR_test = Q3_test - Q1_test\n",
    "upper_limit_test = Q3_test + 1.5 * IQR_test\n",
    "lower_limit_test = Q1_test - 1.5 * IQR_test\n",
    "\n",
    "print(\"Upper whisker test data: \", upper_limit_test)\n",
    "print(\"Lower Whisker test data: \", lower_limit_test)"
   ]
  },
  {
   "cell_type": "markdown",
   "id": "15b8a9b4-0e6e-4eef-86e2-1e9c0e239832",
   "metadata": {},
   "source": [
    "Seperti dibahas sebelumnya, apa pun yang terletak di luar antara Upper whisker dan Lower whisker adalah outlier"
   ]
  },
  {
   "cell_type": "markdown",
   "id": "88c24c92-f2a4-445b-9d02-5b25b53a1255",
   "metadata": {},
   "source": [
    "Mari kita lihat outlier:"
   ]
  },
  {
   "cell_type": "code",
   "execution_count": null,
   "id": "db0ccf5e-92c3-4ad7-a0d0-1357aed248a6",
   "metadata": {
    "tags": []
   },
   "outputs": [],
   "source": [
    "# train data\n",
    "df_train[(df_train['Premi'] < lower_limit_train) | (df_train['Premi'] > upper_limit_train)]"
   ]
  },
  {
   "cell_type": "code",
   "execution_count": null,
   "id": "04023b6c-5d0a-499a-bb7d-e4a485e7a68e",
   "metadata": {},
   "outputs": [],
   "source": [
    "# test data\n",
    "df_test[(df_test['Premi'] < lower_limit_test) | (df_test['Premi'] > upper_limit_test)]"
   ]
  },
  {
   "cell_type": "markdown",
   "id": "ff346c43-3a54-404a-8e71-21d2b0926de4",
   "metadata": {},
   "source": [
    "Ini adalah outlier yang berada di luar batas atas dan bawah yang dihitung dengan metode IQR."
   ]
  },
  {
   "cell_type": "markdown",
   "id": "e5fcfdd1-4b93-45b1-adfc-8687ca1fe9e6",
   "metadata": {},
   "source": [
    "Untuk menghapus outlier ini dari data:"
   ]
  },
  {
   "cell_type": "code",
   "execution_count": null,
   "id": "ae26bb73-4c2e-4938-adf8-693cc61c4232",
   "metadata": {
    "tags": []
   },
   "outputs": [],
   "source": [
    "# train data\n",
    "df_train = df_train[(df_train['Premi'] > lower_limit_train) & (df_train['Premi'] < upper_limit_train)]"
   ]
  },
  {
   "cell_type": "code",
   "execution_count": null,
   "id": "5cb6f34b-2a33-44d6-b781-9567cd7af199",
   "metadata": {},
   "outputs": [],
   "source": [
    "# test data\n",
    "df_test = df_test[(df_test['Premi'] > lower_limit_test) & (df_test['Premi'] < upper_limit_test)]"
   ]
  },
  {
   "cell_type": "markdown",
   "id": "0ce78b2d-e7c3-41e1-b494-59ce89e76373",
   "metadata": {},
   "source": [
    "Kemudian kita cek apakah ada outlier lagi"
   ]
  },
  {
   "cell_type": "code",
   "execution_count": null,
   "id": "1c28393d-c2ec-4dd5-93b1-cbd67de73edc",
   "metadata": {
    "tags": []
   },
   "outputs": [],
   "source": [
    "# train data\n",
    "sns.boxplot(x=df_train['Premi']) \n",
    "sns.despine()"
   ]
  },
  {
   "cell_type": "code",
   "execution_count": null,
   "id": "5ebdee5f-82a5-41cb-92ee-f28596940571",
   "metadata": {},
   "outputs": [],
   "source": [
    "# test data\n",
    "sns.boxplot(x=df_test['Premi']) \n",
    "sns.despine()"
   ]
  },
  {
   "cell_type": "markdown",
   "id": "4a24bf65-a68a-4bc7-b48f-f1906810be35",
   "metadata": {},
   "source": [
    "### **Hapus kolom yang tidak berguna**"
   ]
  },
  {
   "cell_type": "markdown",
   "id": "1e942102-fb3a-4faf-90ff-6b927082d590",
   "metadata": {},
   "source": [
    "Kita akan menghapus kolom 'id'"
   ]
  },
  {
   "cell_type": "code",
   "execution_count": null,
   "id": "b038aba1-615f-41d5-8ea3-768a783ca045",
   "metadata": {
    "tags": []
   },
   "outputs": [],
   "source": [
    "#Penghapusan fitur-fitur yang tidak diperlukan di dataframe train\n",
    "df_train = df_train.drop(['id'], axis = 1)\n",
    "df_train"
   ]
  },
  {
   "cell_type": "code",
   "execution_count": null,
   "id": "753dc66c-3aee-4800-b004-3a642a33e6b8",
   "metadata": {
    "tags": []
   },
   "outputs": [],
   "source": [
    "df_train.info()"
   ]
  },
  {
   "cell_type": "markdown",
   "id": "bfdcbd7e-cdf7-43b0-b1fc-4397af9ba232",
   "metadata": {},
   "source": [
    "### **Periksa tipe data yang salah**"
   ]
  },
  {
   "cell_type": "code",
   "execution_count": null,
   "id": "d9cfb907-a082-4300-90a7-f9f33e4ce535",
   "metadata": {},
   "outputs": [],
   "source": [
    "df_train.dtypes # show the train datatypes"
   ]
  },
  {
   "cell_type": "code",
   "execution_count": null,
   "id": "2b3362f1-8241-458a-b320-337693183171",
   "metadata": {},
   "outputs": [],
   "source": [
    "df_test.dtypes # show the test datatypes"
   ]
  },
  {
   "cell_type": "markdown",
   "id": "690d4557-4729-413e-958c-5edf8f9e4aad",
   "metadata": {},
   "source": [
    "### **Ubah Tipe Data Kolom Umur, Premi, Kanal_Penjualan, Lama_Berlangganan dan Kode_Daerah menjadi int**"
   ]
  },
  {
   "cell_type": "code",
   "execution_count": null,
   "id": "24802542-6471-43e2-a4ff-99f8fc817eb3",
   "metadata": {
    "tags": []
   },
   "outputs": [],
   "source": [
    "# convert train data type of Umur, Premi, Kanal_Penjualan, Lama_Berlangganan and Kode_Daerah column\n",
    "# into integer\n",
    "df_train.Umur = df_train.Umur.astype(int)\n",
    "df_train.Premi = df_train.Premi.astype(int)\n",
    "df_train.Kanal_Penjualan = df_train.Kanal_Penjualan.astype(int)\n",
    "df_train.Lama_Berlangganan = df_train.Lama_Berlangganan.astype(int)\n",
    "df_train.Kode_Daerah = df_train.Kode_Daerah.astype(int)\n",
    "\n",
    "# show the datatypes\n",
    "print(df_train.dtypes)"
   ]
  },
  {
   "cell_type": "code",
   "execution_count": null,
   "id": "81957d97-9e83-4672-a44f-d0aea8bfab06",
   "metadata": {},
   "outputs": [],
   "source": [
    "# convert test data type of Umur, Premi, Kanal_Penjualan, Lama_Berlangganan and Kode_Daerah column\n",
    "# into integer\n",
    "df_test.Umur = df_test.Umur.astype(int)\n",
    "df_test.Premi = df_test.Premi.astype(int)\n",
    "df_test.Kanal_Penjualan = df_test.Kanal_Penjualan.astype(int)\n",
    "df_test.Lama_Berlangganan = df_test.Lama_Berlangganan.astype(int)\n",
    "df_test.Kode_Daerah = df_test.Kode_Daerah.astype(int)\n",
    "\n",
    "# show the datatypes\n",
    "print(df_test.dtypes)"
   ]
  },
  {
   "cell_type": "markdown",
   "id": "c06221be-8514-4ef0-b1b6-d7d3837b1002",
   "metadata": {},
   "source": [
    "### **Encode Data bertipe String**"
   ]
  },
  {
   "cell_type": "code",
   "execution_count": null,
   "id": "c87f9b0e-cfa3-4c1a-9f5a-8d9f7bd45bb8",
   "metadata": {
    "tags": []
   },
   "outputs": [],
   "source": [
    "# Encode string train data\n",
    "df_train['Jenis_Kelamin'] = df_train['Jenis_Kelamin'].replace(['Wanita'], 2)\n",
    "df_train['Jenis_Kelamin'] = df_train['Jenis_Kelamin'].replace(['Pria'], 1)\n",
    "\n",
    "df_train['Umur_Kendaraan'] = df_train['Umur_Kendaraan'].replace(['< 1 Tahun'], 1)\n",
    "df_train['Umur_Kendaraan'] = df_train['Umur_Kendaraan'].replace(['1-2 Tahun'], 2)\n",
    "df_train['Umur_Kendaraan'] = df_train['Umur_Kendaraan'].replace(['> 2 Tahun'], 3)\n",
    "\n",
    "df_train['Kendaraan_Rusak'] = df_train['Kendaraan_Rusak'].replace(['Tidak'], 0)\n",
    "df_train['Kendaraan_Rusak'] = df_train['Kendaraan_Rusak'].replace(['Pernah'], 1)\n",
    "\n",
    "df_train.head()"
   ]
  },
  {
   "cell_type": "code",
   "execution_count": null,
   "id": "863262dc-fbdf-4365-8771-766a6b2395d8",
   "metadata": {},
   "outputs": [],
   "source": [
    "# Encode string test data\n",
    "df_test['Jenis_Kelamin'] = df_test['Jenis_Kelamin'].replace(['Wanita'], 2)\n",
    "df_test['Jenis_Kelamin'] = df_test['Jenis_Kelamin'].replace(['Pria'], 1)\n",
    "\n",
    "df_test['Umur_Kendaraan'] = df_test['Umur_Kendaraan'].replace(['< 1 Tahun'], 1)\n",
    "df_test['Umur_Kendaraan'] = df_test['Umur_Kendaraan'].replace(['1-2 Tahun'], 2)\n",
    "df_test['Umur_Kendaraan'] = df_test['Umur_Kendaraan'].replace(['> 2 Tahun'], 3)\n",
    "\n",
    "df_test['Kendaraan_Rusak'] = df_test['Kendaraan_Rusak'].replace(['Tidak'], 0)\n",
    "df_test['Kendaraan_Rusak'] = df_test['Kendaraan_Rusak'].replace(['Pernah'], 1)\n",
    "\n",
    "df_test.head()"
   ]
  },
  {
   "cell_type": "markdown",
   "id": "3adcd7da-010e-4cf1-bcae-b7e61c435f45",
   "metadata": {},
   "source": [
    "### **Mengubah data kategorikal menjadi tipe data objek**"
   ]
  },
  {
   "cell_type": "code",
   "execution_count": null,
   "id": "e27dd3df-1176-47d9-83d8-821d1ec7f4b8",
   "metadata": {
    "tags": []
   },
   "outputs": [],
   "source": [
    "# Converting categorical train data into object data types\n",
    "df_train=df_train.astype({'Jenis_Kelamin':object, 'SIM': object, 'Sudah_Asuransi': object, 'Kendaraan_Rusak': object,'Tertarik': object, 'Umur_Kendaraan':object})\n",
    "df_train.info()"
   ]
  },
  {
   "cell_type": "code",
   "execution_count": null,
   "id": "7ba7ed86-e72e-453c-9a83-54aded8dd91a",
   "metadata": {},
   "outputs": [],
   "source": [
    "# Converting categorical test data into object data types\n",
    "df_test=df_test.astype({'Jenis_Kelamin':object, 'SIM': object, 'Sudah_Asuransi': object, 'Kendaraan_Rusak': object,'Tertarik': object, 'Umur_Kendaraan':object})\n",
    "df_test.info()"
   ]
  },
  {
   "cell_type": "markdown",
   "id": "ddaa4215-912f-4332-a43f-0d993ad31dc9",
   "metadata": {},
   "source": [
    "Mengecek apakah test data ada nilai hilang lagi"
   ]
  },
  {
   "cell_type": "code",
   "execution_count": null,
   "id": "fccbc9e6-df23-47f2-9575-f5e27093f35f",
   "metadata": {
    "tags": []
   },
   "outputs": [],
   "source": [
    "# Identify missing values of dataframe test\n",
    "# df_test.isnull().sum()"
   ]
  },
  {
   "cell_type": "code",
   "execution_count": null,
   "id": "f488aec4-314c-402a-b86e-4d96f8e224c7",
   "metadata": {
    "tags": []
   },
   "outputs": [],
   "source": [
    "# df_test.dropna(inplace=True) # Using dropna to drop all NaN values in the Dataframe test"
   ]
  },
  {
   "cell_type": "code",
   "execution_count": null,
   "id": "499bb7c7-acfc-4caf-800b-6be02d582a18",
   "metadata": {
    "tags": []
   },
   "outputs": [],
   "source": [
    "# Identify missing values of dataframe test\n",
    "# df_test.isnull().sum()"
   ]
  },
  {
   "cell_type": "markdown",
   "id": "ae45586d-7473-4761-a369-e22ebd321395",
   "metadata": {},
   "source": [
    "# **Klasifikasi Data**"
   ]
  },
  {
   "cell_type": "markdown",
   "id": "bf02d921-91ba-4390-bfae-faed3f3d3074",
   "metadata": {},
   "source": [
    "Kami akan mencoba membangun model menggunakan algoritma Decision Tree. Setelah membangun model, kami akan mengevaluasinya. Kami kemudian akan mencoba mengoptimalkan model kami dengan menyetel hyperparameter model dengan menggunakan GridSearch. Terakhir, kami akan menyimpan hasil prediksi dari dataset kami menggunakan data test."
   ]
  },
  {
   "cell_type": "markdown",
   "id": "3e2eb0c6-95e6-488c-b4d0-a073ae1b8a96",
   "metadata": {},
   "source": [
    "## **Distribusi Kelas**"
   ]
  },
  {
   "cell_type": "markdown",
   "id": "d225afab-7fc1-49b9-831b-812841584701",
   "metadata": {},
   "source": [
    "Hal penting lainnya yang harus dipastikan sebelum memasukkan data kita ke dalam model adalah distribusi kelas data. Dalam kasus kami di mana kelas yang diharapkan dibagi menjadi dua hasil, 'tertarik' dan 'tidak tertarik', distribusi kelas 50:50 dapat dianggap ideal."
   ]
  },
  {
   "cell_type": "code",
   "execution_count": null,
   "id": "48b2fb7b-6e18-42eb-b028-eacfd52568de",
   "metadata": {},
   "outputs": [],
   "source": [
    "df_train['Tertarik'].value_counts()"
   ]
  },
  {
   "cell_type": "markdown",
   "id": "a740a42c-4e8f-4e46-aecb-bef17903fab4",
   "metadata": {},
   "source": [
    "Seperti yang kita lihat distribusi kelas kita tidak persis 50:50 tapi tidak mengapa"
   ]
  },
  {
   "cell_type": "markdown",
   "id": "cb493e3b-6a3c-4792-af7c-ed9532dd160a",
   "metadata": {},
   "source": [
    "## **Skala Data Numerik**"
   ]
  },
  {
   "cell_type": "markdown",
   "id": "8f96263c-e072-49b2-b792-1cb3e83ab9ff",
   "metadata": {},
   "source": [
    "Selanjutnya, kami akan menskalakan data numerik kami untuk menghindari kehadiran outlier yang dapat secara signifikan mempengaruhi model kami. Menggunakan fungsi StandardScaler() dari sklearn, kita dapat menskalakan setiap kolom kita yang berisi data numerik. Penskalaan akan dilakukan dengan menggunakan rumus di bawah ini:"
   ]
  },
  {
   "attachments": {
    "7e284c15-8b52-41df-ac61-808781f640bb.png": {
     "image/png": "[encoded data removed]"
    }
   },
   "cell_type": "markdown",
   "id": "57509081-82c8-40ec-a541-aa16b1e8e5e1",
   "metadata": {},
   "source": [
    "![image.png](attachment:7e284c15-8b52-41df-ac61-808781f640bb.png)"
   ]
  },
  {
   "cell_type": "code",
   "execution_count": null,
   "id": "733596c8-b428-4954-9228-7cdf84b7a7fb",
   "metadata": {},
   "outputs": [],
   "source": [
    "# Copying original train dataframe\n",
    "df_ready = df_train.copy()\n",
    "\n",
    "scaler = StandardScaler()\n",
    "num_cols = ['Umur', 'Kode_Daerah', 'Premi', 'Lama_Berlangganan','Kanal_Penjualan']\n",
    "df_ready[num_cols] = scaler.fit_transform(df_train[num_cols])\n",
    "\n",
    "df_ready.head()"
   ]
  },
  {
   "cell_type": "code",
   "execution_count": null,
   "id": "5cbb4ca0-9787-4368-914a-c4ee25af14ae",
   "metadata": {},
   "outputs": [],
   "source": [
    "# Copying original test dataframe\n",
    "df_test_ready = df_test.copy()\n",
    "df_test_ready[num_cols] = scaler.fit_transform(df_test[num_cols])\n",
    "\n",
    "df_test_ready.head()"
   ]
  },
  {
   "cell_type": "markdown",
   "id": "9b56931e-3edd-4137-b8a1-93efc3e4bb9c",
   "metadata": {},
   "source": [
    "## **Pisahkan Dataset untuk Pelatihan dan Pengujian**"
   ]
  },
  {
   "cell_type": "markdown",
   "id": "1b9e8d59-acab-4d11-ad0d-93a646047aaf",
   "metadata": {},
   "source": [
    "Untuk menyelesaikan langkah pra-pemrosesan data kami, kami akan membagi data kami menjadi dua kumpulan data, pelatihan dan pengujian. Dalam hal ini kami akan membagi data dengan rasio 80:20 untuk pelatihan dan pengujian masing-masing. Ini akan menghasilkan data pelatihan kami memiliki 132514 baris dan 33129 baris untuk data pengujian."
   ]
  },
  {
   "cell_type": "code",
   "execution_count": null,
   "id": "0a165578-beb4-4a58-8f0d-23680a9ab9d5",
   "metadata": {},
   "outputs": [],
   "source": [
    "# Select Features\n",
    "feature = df_ready.drop('Tertarik', axis=1)\n",
    "\n",
    "# Select Target\n",
    "target = df_ready['Tertarik']\n",
    "\n",
    "# Set Training and Testing Data\n",
    "from sklearn.model_selection import train_test_split\n",
    "X_train, X_test, y_train, y_test = train_test_split(feature , target, \n",
    "                                                    shuffle = True, \n",
    "                                                    test_size=0.2, \n",
    "                                                    random_state=1)\n",
    "\n",
    "# Show the Training and Testing Data\n",
    "print('Bentuk dari fitur training:', X_train.shape)\n",
    "print('Bentuk dari fitur testing:', X_test.shape)\n",
    "print('Bentuk dari label training:', y_train.shape)\n",
    "print('Bentuk dari label testing:', y_test.shape)"
   ]
  },
  {
   "cell_type": "markdown",
   "id": "22ce214c-de84-42a7-ab9d-57fd9a552248",
   "metadata": {},
   "source": [
    "## **Pemodelan**"
   ]
  },
  {
   "cell_type": "markdown",
   "id": "9d44573d-f43d-4140-a151-29650a812c67",
   "metadata": {},
   "source": [
    "Setelah memastikan data kami baik dan siap, kami dapat melanjutkan untuk membangun model kami. Pada langkah ini kita akan membuat model dasar menggunakan parameter default yang ditetapkan oleh sklearn.\n",
    "\n",
    "Untuk mengevaluasi model kami, kami akan menggunakan confusion matrix sebagai dasar evaluasi kami."
   ]
  },
  {
   "attachments": {
    "b90e6f12-4d26-402f-ac84-abb97a1f0289.png": {
     "image/png": "[encoded data removed]"
    }
   },
   "cell_type": "markdown",
   "id": "3abe0b1e-37bc-40a6-b46f-223791801120",
   "metadata": {},
   "source": [
    "![image.png](attachment:b90e6f12-4d26-402f-ac84-abb97a1f0289.png)"
   ]
  },
  {
   "cell_type": "markdown",
   "id": "20622bf9-e6d1-42a9-a6c7-2b80948e12da",
   "metadata": {},
   "source": [
    "dimana: TP = True Positive; FP = False Positive; TN = True Negative; FN = False Negative.\n",
    "\n",
    "Kami akan menggunakan 6 metrik di bawah ini untuk mengevaluasi model:\n",
    "\n",
    "- Akurasi: proporsi hasil yang benar di antara jumlah total kasus yang diperiksa."
   ]
  },
  {
   "attachments": {
    "206b9d9e-95a2-4ad9-989f-030ddee8316f.png": {
     "image/png": "[encoded data removed]"
    }
   },
   "cell_type": "markdown",
   "id": "468854a5-8ae6-461f-9cca-31d9061c4235",
   "metadata": {},
   "source": [
    " ![image.png](attachment:206b9d9e-95a2-4ad9-989f-030ddee8316f.png)"
   ]
  },
  {
   "cell_type": "markdown",
   "id": "5ff05ddf-794a-441a-b4bf-1b65b5a86750",
   "metadata": {},
   "source": [
    "- Precision: perbandingan antara True Positive (TP) dengan banyaknya data yang diprediksi positif."
   ]
  },
  {
   "attachments": {
    "49fd7079-7297-4e75-97ba-904c1411392a.png": {
     "image/png": "[encoded data removed]"
    }
   },
   "cell_type": "markdown",
   "id": "3e286260-4fa5-4619-98d3-c109d9a95486",
   "metadata": {},
   "source": [
    "![image.png](attachment:49fd7079-7297-4e75-97ba-904c1411392a.png)"
   ]
  },
  {
   "cell_type": "markdown",
   "id": "80b76e4c-5aff-46a4-bd50-21f239d3cd37",
   "metadata": {},
   "source": [
    "- Recall: perbandingan antara True Positive (TP) dengan banyaknya data yang sebenarnya positif."
   ]
  },
  {
   "attachments": {
    "a6682fb9-c44a-4e65-890f-09073ce8aae4.png": {
     "image/png": "[encoded data removed]"
    }
   },
   "cell_type": "markdown",
   "id": "9c248f00-68ca-4a1c-b17a-c339051c338b",
   "metadata": {},
   "source": [
    "![image.png](attachment:a6682fb9-c44a-4e65-890f-09073ce8aae4.png)"
   ]
  },
  {
   "cell_type": "markdown",
   "id": "8fe84a63-03ba-4e8a-bded-4e67bd5957dc",
   "metadata": {},
   "source": [
    "- Skor F1: harmonic mean dari precision dan recall. Nilai terbaik F1-Score adalah 1.0 dan nilai terburuknya adalah 0. Secara representasi, jika F1-Score punya skor yang baik mengindikasikan bahwa model klasifikasi kita punya precision dan recall yang baik."
   ]
  },
  {
   "attachments": {
    "a178b228-9e9f-404c-85e8-d2f27b27e28f.png": {
     "image/png": "[encoded data removed]"
    }
   },
   "cell_type": "markdown",
   "id": "d9ea947e-0bdd-49f0-a171-1c2e9c201a8b",
   "metadata": {},
   "source": [
    "![image.png](attachment:a178b228-9e9f-404c-85e8-d2f27b27e28f.png)"
   ]
  },
  {
   "cell_type": "markdown",
   "id": "72d11d77-aa32-4954-9bc4-3468e9d6e23c",
   "metadata": {},
   "source": [
    "- Skor Cohen Kappa: Cohen's kappa mengukur kesepakatan antara dua penilai yang masing-masing mengklasifikasikan N item ke dalam kategori C yang saling eksklusif."
   ]
  },
  {
   "attachments": {
    "04f87549-7020-4c93-9c12-09a114eef96f.png": {
     "image/png": "[encoded data removed]"
    }
   },
   "cell_type": "markdown",
   "id": "a7ccb387-268c-46c4-93c4-bed9b8f1dd39",
   "metadata": {},
   "source": [
    "![image.png](attachment:04f87549-7020-4c93-9c12-09a114eef96f.png)"
   ]
  },
  {
   "cell_type": "markdown",
   "id": "77d988cc-45ee-4476-a246-d325f09428ee",
   "metadata": {},
   "source": [
    "di mana Po adalah probabilitas empiris kesepakatan pada label yang ditetapkan untuk setiap sampel (rasio kesepakatan yang diamati), dan Pe adalah kesepakatan yang diharapkan ketika kedua annotator menetapkan label secara acak. Pe diperkirakan menggunakan prior empiris per-annotator di atas label kelas."
   ]
  },
  {
   "cell_type": "markdown",
   "id": "8c27ea85-0ab2-4d7d-bdec-8db74812c0c3",
   "metadata": {},
   "source": [
    "- Area Under Curve (AUC): menunjukkan seberapa baik probabilitas dari kelas positif dipisahkan dari kelas negatif"
   ]
  },
  {
   "cell_type": "markdown",
   "id": "46a23daf-e74e-484a-9e82-4f583c55e55d",
   "metadata": {},
   "source": [
    "Dalam hal ini kami ingin fokus pada nilai recall model kami karena dalam masalah kami, kami harus mencoba untuk memprediksi sebanyak mungkin positif aktual. Karena kesalahan klasifikasi pelanggan yang sebenarnya ingin melakukan pembelian dapat berarti kehilangan kesempatan/pendapatan.\n",
    "\n",
    "Di bawah ini kami akan mendefinisikan fungsi pembantu untuk mengevaluasi setiap model terlatih dan dengan metrik yang disebutkan di atas dan menyimpan skor ke variabel."
   ]
  },
  {
   "cell_type": "code",
   "execution_count": null,
   "id": "e2448ec9-eac8-43f2-9a21-bbb98458ccb9",
   "metadata": {},
   "outputs": [],
   "source": [
    "def evaluate_model(model, x_test, y_test):\n",
    "\n",
    "    # Predict Test Data \n",
    "    y_pred = model.predict(x_test)\n",
    "\n",
    "    # Calculate accuracy, precision, recall, f1-score, and kappa score\n",
    "    acc = metrics.accuracy_score(y_test, y_pred)\n",
    "    prec = metrics.precision_score(y_test, y_pred)\n",
    "    rec = metrics.recall_score(y_test, y_pred)\n",
    "    f1 = metrics.f1_score(y_test, y_pred)\n",
    "    kappa = metrics.cohen_kappa_score(y_test, y_pred)\n",
    "\n",
    "    # Calculate area under curve (AUC)\n",
    "    y_pred_proba = model.predict_proba(x_test)[::,1]\n",
    "    fpr, tpr, _ = metrics.roc_curve(y_test, y_pred_proba)\n",
    "    auc = metrics.roc_auc_score(y_test, y_pred_proba)\n",
    "\n",
    "    # Display confussion matrix\n",
    "    cm = metrics.confusion_matrix(y_test, y_pred)\n",
    "\n",
    "    return {'acc': acc, 'prec': prec, 'rec': rec, 'f1': f1, 'kappa': kappa, \n",
    "            'fpr': fpr, 'tpr': tpr, 'auc': auc, 'cm': cm}"
   ]
  },
  {
   "cell_type": "markdown",
   "id": "5e062aa9-0abd-464b-9a3c-5b0cdd6cb1a1",
   "metadata": {},
   "source": [
    "## **Decision Tree**"
   ]
  },
  {
   "cell_type": "markdown",
   "id": "443b2a66-2213-42c2-bfae-ac8781fad864",
   "metadata": {},
   "source": [
    "Pohon keputusan adalah diagram berbentuk pohon yang digunakan untuk menentukan suatu tindakan. Setiap cabang pohon mewakili kemungkinan keputusan, kejadian atau reaksi."
   ]
  },
  {
   "cell_type": "markdown",
   "id": "668cac8e-10f9-4b29-b794-da5a64b52549",
   "metadata": {},
   "source": [
    "#### Keuntungan:"
   ]
  },
  {
   "cell_type": "markdown",
   "id": "53c19f30-33f2-4471-9e7c-39653bc4ac4b",
   "metadata": {},
   "source": [
    "- Ini dapat digunakan untuk tugas regresi dan klasifikasi dan mudah untuk melihat kepentingan relatif yang diberikannya pada fitur input.\n",
    "- Ini juga dianggap sebagai algoritme yang sangat praktis dan mudah digunakan, karena parameter hiper defaultnya sering kali menghasilkan hasil prediksi yang baik."
   ]
  },
  {
   "cell_type": "markdown",
   "id": "03c3223a-ba4a-476c-a2f0-25522753a0af",
   "metadata": {},
   "source": [
    "#### Kekurangan:"
   ]
  },
  {
   "cell_type": "markdown",
   "id": "b46d9da1-8b34-4d33-8b8d-6fc4d7c47c9b",
   "metadata": {},
   "source": [
    "- Banyak pohon dapat membuat algoritma menjadi lambat dan tidak efektif untuk prediksi waktu nyata. Prediksi yang lebih akurat membutuhkan lebih banyak pohon, yang menghasilkan model yang lebih lambat.\n",
    "- Ini adalah alat pemodelan prediktif dan bukan alat deskriptif."
   ]
  },
  {
   "attachments": {
    "af6aff93-475b-4f31-a34f-23dab1e66c56.png": {
     "image/png": "[encoded data removed]"
    }
   },
   "cell_type": "markdown",
   "id": "962be7d0-4f81-4262-a2e5-ed375f5f0d44",
   "metadata": {},
   "source": [
    "![image.png](attachment:af6aff93-475b-4f31-a34f-23dab1e66c56.png)"
   ]
  },
  {
   "cell_type": "markdown",
   "id": "5ff5bb5e-b7ec-4b7a-b408-6ad738277fd3",
   "metadata": {},
   "source": [
    "## **Membangun Model**"
   ]
  },
  {
   "cell_type": "markdown",
   "id": "b2ba22c7-d274-4ccf-ae9b-c9665cfdd699",
   "metadata": {},
   "source": [
    "Setelah memahami cara kerja model, mari kita coba melatih model kita dengan menggunakan dataset pelatihan yang kita miliki sebelumnya. Di bawah ini adalah Decision Tree, kemudian kami akan mengevaluasi model dengan fungsi pembantu sebelumnya."
   ]
  },
  {
   "cell_type": "code",
   "execution_count": null,
   "id": "6dc6bbd2-f3fd-4729-904b-b3461450ce0d",
   "metadata": {},
   "outputs": [],
   "source": [
    "# Building Decision Tree model \n",
    "dtc = tree.DecisionTreeClassifier(random_state=0)\n",
    "dtc.fit(X_train.astype(int), y_train.astype(int))"
   ]
  },
  {
   "cell_type": "markdown",
   "id": "b61dcb50-27c8-4f3e-90fa-b971fcc18fc0",
   "metadata": {
    "tags": []
   },
   "source": [
    "## **Representasi Decision Tree secara Teks**"
   ]
  },
  {
   "cell_type": "code",
   "execution_count": null,
   "id": "78d2d3d9-8c2d-4609-9481-326513115c48",
   "metadata": {
    "tags": []
   },
   "outputs": [],
   "source": [
    "text_representation = tree.export_text(dtc)\n",
    "print(text_representation)"
   ]
  },
  {
   "cell_type": "markdown",
   "id": "a3d4dcad-aa4c-4cb5-bab1-8a3280e6a3c6",
   "metadata": {},
   "source": [
    "## **Visualisasi Decision Tree**"
   ]
  },
  {
   "cell_type": "code",
   "execution_count": null,
   "id": "570aff83-ca64-4497-accc-08fee33dd89b",
   "metadata": {},
   "outputs": [],
   "source": [
    "# from sklearn.tree import plot_tree\n",
    "feature_names = str(df_ready.columns[:10])\n",
    "target_names = str(df_ready['Tertarik'])\n",
    "\n",
    "fig = plt.figure(figsize=(25,20))\n",
    "_ = tree.plot_tree(dtc, \n",
    "                   feature_names= feature_names,  \n",
    "                   class_names= target_names,\n",
    "                   filled=True,  \n",
    "                   rounded = True)"
   ]
  },
  {
   "cell_type": "markdown",
   "id": "cf6e203b-105a-4bd8-9039-3b2211765057",
   "metadata": {},
   "source": [
    "## **Evaluasi Model**"
   ]
  },
  {
   "cell_type": "code",
   "execution_count": null,
   "id": "af3abacf-6b05-4230-9bc9-32e3303699f1",
   "metadata": {},
   "outputs": [],
   "source": [
    "# Evaluate Model\n",
    "dtc_eval = evaluate_model(dtc, X_test.astype(int), y_test.astype(int))\n",
    "\n",
    "# Print result\n",
    "print('Akurasi:', dtc_eval['acc'])\n",
    "print('Precision:', dtc_eval['prec'])\n",
    "print('Recall:', dtc_eval['rec'])\n",
    "print('Skor F1:', dtc_eval['f1'])\n",
    "print('Skor Cohens Kappa:', dtc_eval['kappa'])\n",
    "print('Area Under Curve:', dtc_eval['auc'])"
   ]
  },
  {
   "cell_type": "markdown",
   "id": "f1b7084b-318c-4a1e-b2b8-898d2f180f31",
   "metadata": {},
   "source": [
    "Kita bisa melakukan visualiasi confusion matrix dengan kode dibawah"
   ]
  },
  {
   "cell_type": "code",
   "execution_count": null,
   "id": "5189315b-4c7f-45d4-b1dd-abb80cbfc9d2",
   "metadata": {},
   "outputs": [],
   "source": [
    "# confusion matrix plot\n",
    "group_names = ['True Neg','False Pos','False Neg','True Pos']\n",
    "group_counts = [\"{0:0.0f}\".format(value) for value in dtc_eval['cm'].flatten()]\n",
    "group_percentages = [\"{0:.2%}\".format(value) for value in dtc_eval['cm'].flatten()/np.sum(dtc_eval['cm'])]\n",
    "\n",
    "labels = [f\"{v1}\\n{v2}\\n{v3}\" for v1, v2, v3 in zip(group_names,group_counts,group_percentages)]\n",
    "labels = np.asarray(labels).reshape(2,2)\n",
    "\n",
    "ax = sns.heatmap(dtc_eval['cm'], annot=labels, fmt='', cmap='Blues')\n",
    "\n",
    "ax.set_title('Confusion Matrix Model Biasa\\n\\n');\n",
    "ax.set_xlabel('\\nPredicted Values')\n",
    "ax.set_ylabel('Actual Values ');\n",
    "\n",
    "## Ticket labels - List must be in alphabetical order\n",
    "ax.xaxis.set_ticklabels(['False','True'])\n",
    "ax.yaxis.set_ticklabels(['False','True'])\n",
    "\n",
    "## Display the visualization of the Confusion Matrix.\n",
    "plt.show()"
   ]
  },
  {
   "cell_type": "markdown",
   "id": "53dd809a-ad81-464e-9c13-9b4a5b43adf1",
   "metadata": {},
   "source": [
    "## **Visualisasi Evaluasi Model**"
   ]
  },
  {
   "cell_type": "markdown",
   "id": "8a44bf70-3ad8-4275-b1ad-5f0c8975728a",
   "metadata": {},
   "source": [
    "kita akan membuat dua grafik, pertama adalah diagram batang yang dikelompokkan untuk menampilkan nilai akurasi, presisi, recall, f1, dan skor kappa model kami, dan kedua diagram garis untuk menunjukkan AUC semua model kami."
   ]
  },
  {
   "cell_type": "code",
   "execution_count": null,
   "id": "eab76ad7-6275-47c4-a21f-1fa2c60f0eb6",
   "metadata": {},
   "outputs": [],
   "source": [
    "# Intitialize figure with two plots\n",
    "fig, (ax1, ax2) = plt.subplots(1, 2)\n",
    "fig.suptitle('Visualisasi Model', fontsize=16, fontweight='bold')\n",
    "fig.set_figheight(7)\n",
    "fig.set_figwidth(14)\n",
    "fig.set_facecolor('white')\n",
    "\n",
    "# First plot\n",
    "## set bar size\n",
    "barWidth = 0.2\n",
    "dtc_score = [dtc_eval['acc'], dtc_eval['prec'], dtc_eval['rec'], dtc_eval['f1'], dtc_eval['kappa']]\n",
    "\n",
    "## Set position of bar on X axis\n",
    "r1 = np.arange(len(dtc_score))\n",
    "\n",
    "## Make the plot\n",
    "ax1.bar(r1, dtc_score, width=barWidth, edgecolor='white', label='Decision Tree')\n",
    "\n",
    "## Configure x and y axis\n",
    "ax1.set_xlabel('Mektrik', fontweight='bold')\n",
    "labels = ['Akurasi', 'Precision', 'Recall', 'F1', 'Kappa']\n",
    "ax1.set_xticks([r + (barWidth * 1.5) for r in range(len(dtc_score))], )\n",
    "ax1.set_xticklabels(labels)\n",
    "ax1.set_ylabel('Nilai', fontweight='bold')\n",
    "ax1.set_ylim(0, 1)\n",
    "\n",
    "## Create legend & title\n",
    "ax1.set_title('Metrik Evaluasi', fontsize=14, fontweight='bold')\n",
    "ax1.legend()\n",
    "\n",
    "# Second plot\n",
    "## Comparing ROC Curve\n",
    "ax2.plot(dtc_eval['fpr'], dtc_eval['tpr'], label='Decision Tree, auc = {:0.5f}'.format(dtc_eval['auc']))\n",
    "\n",
    "## Configure x and y axis\n",
    "ax2.set_xlabel('Nilai False Positive', fontweight='bold')\n",
    "ax2.set_ylabel('Nilai True Positive', fontweight='bold')\n",
    "\n",
    "## Create legend & title\n",
    "ax2.set_title('Lengkungan ROC', fontsize=14, fontweight='bold')\n",
    "ax2.legend(loc=4)\n",
    "\n",
    "plt.show()"
   ]
  },
  {
   "cell_type": "markdown",
   "id": "c1164652-5025-498e-89dc-6b465b5e69b8",
   "metadata": {},
   "source": [
    "## **Optimasi Model**"
   ]
  },
  {
   "cell_type": "markdown",
   "id": "d3e5d3d1-50d2-4b2b-aeae-364c8bb72b93",
   "metadata": {},
   "source": [
    "kami akan mencoba mengoptimalkan model decision tree kami dengan menyetel parameter hyper yang tersedia dari lib scikit-learn. Setelah menemukan parameter optimal, kami kemudian akan mengevaluasi model baru kami dengan membandingkannya dengan model base line kami sebelumnya."
   ]
  },
  {
   "cell_type": "markdown",
   "id": "196fa745-fb82-4137-bf04-d67f0e4f80d9",
   "metadata": {},
   "source": [
    "#### **Menyetel Hyperparameter dengan GridSearchCV**"
   ]
  },
  {
   "cell_type": "markdown",
   "id": "11f7b6ac-3c71-4b90-bb46-1c6d34c66b7b",
   "metadata": {},
   "source": [
    "Kami akan menggunakan fungsionalitas GridSearchCV dari sklearn untuk menemukan parameter optimal untuk model kami. Kami akan menyediakan model dasar kami (bernama dt_grids), metode penilaian (dalam kasus kami, kami akan menggunakan recall seperti yang dijelaskan sebelumnya). Fungsi GridSearchCV kemudian akan melakukan iterasi melalui setiap kombinasi parameter untuk menemukan parameter penilaian terbaik.\n",
    "\n",
    "Fungsi ini juga memungkinkan kita untuk menggunakan validasi silang untuk melatih model kita, di mana pada setiap iterasi data kita akan dibagi menjadi 5 kali lipat (jumlahnya dapat disesuaikan dari parameter). Model kemudian akan dilatih pada 4/5 lipatan data meninggalkan lipatan terakhir sebagai data validasi, proses ini akan diulang sebanyak 5 kali hingga semua lipatan kita digunakan sebagai data validasi."
   ]
  },
  {
   "attachments": {
    "763bea6b-bfbf-43d1-85e3-23c7c6161086.png": {
     "image/png": "[encoded data removed]"
    }
   },
   "cell_type": "markdown",
   "id": "b0374ed0-0508-46f4-9184-e6230bae00c9",
   "metadata": {},
   "source": [
    "![image.png](attachment:763bea6b-bfbf-43d1-85e3-23c7c6161086.png)"
   ]
  },
  {
   "cell_type": "markdown",
   "id": "df9baca2-36a2-4e8c-a188-7b05284a4947",
   "metadata": {},
   "source": [
    "Untuk melihat hasil kombinasi parameter mana yang paling berhasil, kita dapat mengakses atribut best_params_ dari objek pencarian grid kita."
   ]
  },
  {
   "cell_type": "code",
   "execution_count": null,
   "id": "7436c62e-0a6f-4c25-afb4-94627199f3ae",
   "metadata": {},
   "outputs": [],
   "source": [
    "param_grid = {\n",
    "    'criterion': ['gini', 'entropy'],\n",
    "    'max_depth': [20, 40, 80, 100],\n",
    "    'max_features': [2, 3, 4],\n",
    "    'min_samples_leaf': [3, 4, 5],\n",
    "    'min_samples_split': [8, 10, 12],\n",
    "}\n",
    "\n",
    "# Create a base model\n",
    "dt_grids = tree.DecisionTreeClassifier(random_state=0)\n",
    "\n",
    "# Initiate the grid search model\n",
    "grid_search = GridSearchCV(estimator=dt_grids, param_grid=param_grid, scoring='recall',\n",
    "                           cv=5, n_jobs=-1, verbose=2)\n",
    "\n",
    "# Fit the grid search to the data\n",
    "grid_search.fit(X_train.astype(int), y_train.astype(int))\n",
    "\n",
    "print('Criterion Terbaik:', grid_search.best_estimator_.get_params()['criterion'])\n",
    "print('max_depth Terbaik:', grid_search.best_estimator_.get_params()['max_depth'])\n",
    "print('max_features Terbaik:', grid_search.best_estimator_.get_params()['max_features'])\n",
    "print('min_samples_leaf Terbaik:', grid_search.best_estimator_.get_params()['min_samples_leaf'])\n",
    "print('min_samples_split Terbaik:', grid_search.best_estimator_.get_params()['min_samples_split'])"
   ]
  },
  {
   "cell_type": "markdown",
   "id": "a9458ac3-a308-4818-a815-96b5ecbb5279",
   "metadata": {},
   "source": [
    "Kemudian kita membuat model baru dengan hyperparameter yang telah kita dapat"
   ]
  },
  {
   "cell_type": "code",
   "execution_count": null,
   "id": "2d705615-a85d-41f6-9f11-e20653cf1406",
   "metadata": {},
   "outputs": [],
   "source": [
    "improved_dt = tree.DecisionTreeClassifier(criterion='gini', max_depth=20,\n",
    "            max_features=3,min_samples_leaf=3, min_samples_split=10, random_state=0)\n",
    "improved_dt.fit(X_train.astype(int), y_train.astype(int))"
   ]
  },
  {
   "cell_type": "markdown",
   "id": "bc17390a-5928-48ed-bd80-221668b79648",
   "metadata": {},
   "source": [
    "## **Mengevaluasi Model yang Dioptimalkan**"
   ]
  },
  {
   "cell_type": "markdown",
   "id": "c0d5e92a-7d5d-4495-9774-2b07833d9473",
   "metadata": {},
   "source": [
    "Kami akan menghitung 6 metrik evaluasi menggunakan fungsi pembantu kami untuk membandingkannya dengan model dasar kami pada langkah berikutnya."
   ]
  },
  {
   "cell_type": "code",
   "execution_count": null,
   "id": "742a6a4a-13ff-4192-9f95-7065a7a33e04",
   "metadata": {
    "tags": []
   },
   "outputs": [],
   "source": [
    "# Evaluate Model\n",
    "best_grid_eval = evaluate_model(improved_dt, X_test.astype(int), y_test.astype(int))\n",
    "\n",
    "# Print result\n",
    "print('Akurasi:', best_grid_eval['acc'])\n",
    "print('Precision:', best_grid_eval['prec'])\n",
    "print('Recall:', best_grid_eval['rec'])\n",
    "print('Skor F1:', best_grid_eval['f1'])\n",
    "print('Skor Cohens Kappa:', best_grid_eval['kappa'])\n",
    "print('Area Under Curve:', best_grid_eval['auc'])"
   ]
  },
  {
   "cell_type": "markdown",
   "id": "7b636cd8-47d3-48cb-8905-b272da1e92ec",
   "metadata": {},
   "source": [
    "Kita bisa melakukan visualiasi confusion matrix dengan kode dibawah"
   ]
  },
  {
   "cell_type": "code",
   "execution_count": null,
   "id": "1f021905-4b4f-4387-b7e9-9fe910b5ae89",
   "metadata": {},
   "outputs": [],
   "source": [
    "# confusion matrix plot\n",
    "group_names = ['True Neg','False Pos','False Neg','True Pos']\n",
    "group_counts = [\"{0:0.0f}\".format(value) for value in best_grid_eval['cm'].flatten()]\n",
    "group_percentages = [\"{0:.2%}\".format(value) for value in best_grid_eval['cm'].flatten()/np.sum(best_grid_eval['cm'])]\n",
    "\n",
    "labels = [f\"{v1}\\n{v2}\\n{v3}\" for v1, v2, v3 in zip(group_names,group_counts,group_percentages)]\n",
    "labels = np.asarray(labels).reshape(2,2)\n",
    "\n",
    "ax = sns.heatmap(best_grid_eval['cm'], annot=labels, fmt='', cmap='Blues')\n",
    "\n",
    "ax.set_title('Confusion Matrix Model Optimal\\n\\n');\n",
    "ax.set_xlabel('\\nPredicted Values')\n",
    "ax.set_ylabel('Actual Values ');\n",
    "\n",
    "## Ticket labels - List must be in alphabetical order\n",
    "ax.xaxis.set_ticklabels(['False','True'])\n",
    "ax.yaxis.set_ticklabels(['False','True'])\n",
    "\n",
    "## Display the visualization of the Confusion Matrix.\n",
    "plt.show()"
   ]
  },
  {
   "cell_type": "markdown",
   "id": "e52ba909-a946-482b-ae70-aca10cef47f1",
   "metadata": {},
   "source": [
    "## **Perbandingan Model**"
   ]
  },
  {
   "cell_type": "markdown",
   "id": "e5da0b12-2712-4132-9566-fd97d5b5aef8",
   "metadata": {},
   "source": [
    "Kode di bawah ini akan menggambar plot yang sama seperti sebelumnya hanya dengan decision tree asli kami dan versi yang dioptimalkan. Ini juga akan mencetak perubahan pada setiap metrik evaluasi untuk membantu kami melihat apakah model kami yang dioptimalkan bekerja lebih baik daripada yang asli."
   ]
  },
  {
   "cell_type": "code",
   "execution_count": null,
   "id": "cc729f25-8e8e-4d8c-a4df-7612b94a3ba7",
   "metadata": {},
   "outputs": [],
   "source": [
    "# Intitialize figure with two plots\n",
    "fig, (ax1, ax2) = plt.subplots(1, 2)\n",
    "fig.suptitle('Perbandingan Model', fontsize=16, fontweight='bold')\n",
    "fig.set_figheight(7)\n",
    "fig.set_figwidth(14)\n",
    "fig.set_facecolor('white')\n",
    "\n",
    "# First plot\n",
    "## set bar size\n",
    "barWidth = 0.2\n",
    "dt_score = [dtc_eval['acc'], dtc_eval['prec'], dtc_eval['rec'], dtc_eval['f1'], dtc_eval['kappa']]\n",
    "best_grid_score = [best_grid_eval['acc'], best_grid_eval['prec'], best_grid_eval['rec'], best_grid_eval['f1'], best_grid_eval['kappa']]\n",
    "\n",
    "## Set position of bar on X axis\n",
    "d1 = np.arange(len(dt_score))\n",
    "d2 = [x + barWidth for x in d1]\n",
    "\n",
    "## Make the plot\n",
    "ax1.bar(d1, dt_score, width=barWidth, edgecolor='white', label='Decision Tree (Base Line)')\n",
    "ax1.bar(d2, best_grid_score, width=barWidth, edgecolor='white', label='Decision Tree (Optimized)')\n",
    "\n",
    "## Add xticks on the middle of the group bars\n",
    "ax1.set_xlabel('Metrik', fontweight='bold')\n",
    "labels = ['Akurasi', 'Precision', 'Recall', 'F1', 'Kappa']\n",
    "ax1.set_xticks([r + (barWidth * 0.5) for r in range(len(dtc_score))], )\n",
    "ax1.set_xticklabels(labels)\n",
    "ax1.set_ylabel('Nilai', fontweight='bold')\n",
    "# ax1.set_ylim(0, 1)\n",
    "\n",
    "## Create legend & Show graphic\n",
    "ax1.set_title('Metrik Evaluasi', fontsize=14, fontweight='bold')\n",
    "ax1.legend()\n",
    "\n",
    "# Second plot\n",
    "## Comparing ROC Curve\n",
    "ax2.plot(dtc_eval['fpr'], dtc_eval['tpr'], label='Decision Tree, auc = {:0.5f}'.format(dtc_eval['auc']))\n",
    "ax2.plot(best_grid_eval['fpr'], best_grid_eval['tpr'], label='Decision Tree, auc = {:0.5f}'.format(best_grid_eval['auc']))\n",
    "\n",
    "ax2.set_title('Kelengkungan ROC', fontsize=14, fontweight='bold')\n",
    "ax2.set_xlabel('Nilai False Positive', fontweight='bold')\n",
    "ax2.set_ylabel('Nilai True Positive', fontweight='bold')\n",
    "ax2.legend(loc=4)\n",
    "\n",
    "plt.show()\n",
    "\n",
    "print('Akurasi berubah sebanyak {:0.2f}%.'.format(100 * ((best_grid_eval['acc'] - dtc_eval['acc']) / dtc_eval['acc'])))\n",
    "print('Precision berubah sebanyak {:0.2f}%.'.format(100 * ((best_grid_eval['prec'] - dtc_eval['prec']) / dtc_eval['prec'])))\n",
    "print('Recall berubah sebanyak {:0.2f}%.'.format(100 * ((best_grid_eval['rec'] - dtc_eval['rec']) / dtc_eval['rec'])))\n",
    "print('Nilai F1 berubah sebanyak {:0.2f}%.'.format(100 * ((best_grid_eval['f1'] - dtc_eval['f1']) / dtc_eval['f1'])))\n",
    "print('Nilai Kappa berubah sebanyak {:0.2f}%.'.format(100 * ((best_grid_eval['kappa'] - dtc_eval['kappa']) / dtc_eval['kappa'])))\n",
    "print('AUC berubah sebanyak {:0.2f}%.'.format(100 * ((best_grid_eval['auc'] - dtc_eval['auc']) / dtc_eval['auc'])))"
   ]
  },
  {
   "cell_type": "markdown",
   "id": "ed16e25f-4b86-4268-b3ca-8b6c5441f90c",
   "metadata": {},
   "source": [
    "## **Membuat Prediksi**"
   ]
  },
  {
   "cell_type": "markdown",
   "id": "3b7381f8-0b2e-4c5c-9abe-3e13736a0875",
   "metadata": {},
   "source": [
    "Pada langkah ini kami akan memprediksi hasil yang diharapkan dari semua baris dari dataset pengujian kami yang lain menggunakan model Decision Tree."
   ]
  },
  {
   "cell_type": "code",
   "execution_count": null,
   "id": "8eabb9b6-b5e9-4858-a6a8-d3f2504f0ddd",
   "metadata": {
    "tags": []
   },
   "outputs": [],
   "source": [
    "# with base line dtc\n",
    "# df_test_ready = df_test_ready.drop('prediksi_tertarik', axis=1)\n",
    "df_predict_base_line = df_test_ready.copy()\n",
    "feature = df_predict_base_line.drop('Tertarik', axis=1)\n",
    "\n",
    "df_predict_base_line['prediksi_tertarik'] = dtc.predict(feature)\n",
    "\n",
    "# Save new dataframe into csv file\n",
    "df_predict_base_line.to_csv('prediksi_tertarik_baseline_model.csv', index=False)\n",
    "\n",
    "df_predict_base_line.head(10)"
   ]
  },
  {
   "cell_type": "code",
   "execution_count": null,
   "id": "e13b0362-ffff-4d78-bb61-9c3cafdf18bf",
   "metadata": {},
   "outputs": [],
   "source": [
    "# with improvedDTC\n",
    "# df_test_ready = df_test_ready.drop('prediksi_tertarik', axis=1)\n",
    "df_predict_improve = df_test_ready.copy()\n",
    "feature = df_predict_improve.drop('Tertarik', axis=1)\n",
    "\n",
    "df_predict_improve['prediksi_tertarik'] = improved_dt.predict(feature)\n",
    "\n",
    "# Save new dataframe into csv file\n",
    "df_predict_improve.to_csv('prediksi_tertarik_improved_model.csv', index=False)\n",
    "\n",
    "df_predict_improve.head(10)"
   ]
  },
  {
   "cell_type": "markdown",
   "id": "ee847aca-e377-4e6c-b195-4bb49c911e9c",
   "metadata": {},
   "source": [
    "# **Kesimpulan**"
   ]
  },
  {
   "cell_type": "markdown",
   "id": "b2221e71-0cdd-446a-b90f-9eba08dc2efb",
   "metadata": {},
   "source": [
    "Untuk model sederhana kita dapat melihat bahwa model kita melakukan klasifikasi data dengan kurang baik. Masih ada beberapa kelemahan pada model kami seperti recall, presisi, F1 dan kappa masih cenderung kecil. Hasilnya pun tidak jauh berbeda setelah mengoptimalkan model menggunakan GridSearchCV yang berarti kita mencapai batas kita dengan model ini. Untuk meningkatkan kinerja kami, kami dapat mencoba melihat ke dalam algoritma lain seperti GradientBoostingClassifier atau mencari model klasifikasi lain selain decision tree."
   ]
  },
  {
   "cell_type": "markdown",
   "id": "71b9d66e-3515-4c91-bd83-3a26649d4e90",
   "metadata": {},
   "source": [
    "# **Link GitHub**"
   ]
  },
  {
   "cell_type": "markdown",
   "id": "7ec1ee43-a7e8-4217-8851-22a3e01d17de",
   "metadata": {},
   "source": [
    "File csv untuk train dan test dan juga hasil prediksi terdapat pada link GitHub dibawah"
   ]
  },
  {
   "cell_type": "markdown",
   "id": "615a83b3-41ac-4cb8-a25e-ff45660c22ea",
   "metadata": {},
   "source": [
    "https://github.com/dioapw/school-project-clustering-classification"
   ]
  },
  {
   "cell_type": "markdown",
   "id": "0e5586eb-4b4a-4a43-944b-7cdd7ec13a8a",
   "metadata": {},
   "source": [
    "# **Referensi**"
   ]
  },
  {
   "cell_type": "markdown",
   "id": "084b532d-4087-42f9-b512-3e6189c0b177",
   "metadata": {},
   "source": [
    "- https://www.projectpro.io/recipes/optimize-hyper-parameters-of-decisiontree-model-using-grid-search-in-python\n",
    "- https://medium.com/analytics-vidhya/building-classification-model-with-python-9bdfc13faa4b\n",
    "- https://medium.com/codex/building-and-visualizing-decision-tree-in-python-2cfaafd8e1bb\n",
    "- https://stevkarta.medium.com/membicarakan-precision-recall-dan-f1-score-e96d81910354\n",
    "- https://www.stackvidhya.com/plot-confusion-matrix-in-python-and-why/"
   ]
  }
 ],
 "metadata": {
  "kernelspec": {
   "display_name": "Python 3 (ipykernel)",
   "language": "python",
   "name": "python3"
  },
  "language_info": {
   "codemirror_mode": {
    "name": "ipython",
    "version": 3
   },
   "file_extension": ".py",
   "mimetype": "text/x-python",
   "name": "python",
   "nbconvert_exporter": "python",
   "pygments_lexer": "ipython3",
   "version": "3.10.1"
  },
  "toc-autonumbering": false,
  "toc-showcode": false,
  "toc-showmarkdowntxt": false,
  "toc-showtags": true
 },
 "nbformat": 4,
 "nbformat_minor": 5
}
